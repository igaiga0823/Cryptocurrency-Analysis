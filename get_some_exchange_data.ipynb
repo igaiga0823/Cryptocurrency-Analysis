{
 "cells": [
  {
   "cell_type": "code",
   "execution_count": 55,
   "metadata": {},
   "outputs": [],
   "source": [
    "from binance.client import Client\n",
    "\n",
    "class BinanceAPI:\n",
    "    def __init__(self):\n",
    "        API_KEY = \"sGluVkVkz1Sfcq1yGzJXlCNQ3cp1k1JIMukzCK5y8u4bsNfGt11Nq66mkvXFqKrw\"\n",
    "        API_SECRET = \"QiPMu58JB6Yq9Mv4O9NH4oPnXMI7nootEf8TgJvYZJfqryV8leNjjN8Y25zLNomi\"\n",
    "        self.client = Client(API_KEY, API_SECRET)\n",
    "    \n",
    "    #銘柄を指定して情報を取得する\n",
    "    def get_ticker_value(self, pair):\n",
    "        try:\n",
    "            value = self.client.get_ticker(symbol=pair)\n",
    "            return value\n",
    "        except Exception as e:\n",
    "            print(\"Error Message : {}\".format(e))\n",
    "            return\n",
    "    \n",
    "    #全ての銘柄とその価格を取得する\n",
    "    def get_all_ticker_value(self):\n",
    "        try:\n",
    "            value = self.client.get_all_tickers()\n",
    "            return value\n",
    "        except Exception as e:\n",
    "            print(\"Error Message : {}\".format(e))\n",
    "            return\n",
    "    \n",
    "    #任意の銘柄の過去の取引を取得する\n",
    "    def get_some_historical_value(self, label, limit=500):\n",
    "        try:\n",
    "            value = self.client.get_historical_trades(symbol=label, limit=limit)\n",
    "            return value\n",
    "        except Exception as e:\n",
    "            print(\"Error Message : {}\".format(e))\n",
    "            return\n",
    "        \n",
    "    def get_some_kline_value(self, label, start_date, end_date, interval=\"1d\"):\n",
    "        try:\n",
    "            value = self.client.get_klines(symbol=label, startTime=start_date, endTime=end_date, interval=interval)\n",
    "            return value\n",
    "        except Exception as e:\n",
    "            print(\"Error Message : {}\".format(e))\n",
    "            return\n",
    "    \n",
    "    def get_some_order_book(self, label):\n",
    "        try:\n",
    "            value = self.client.get_order_book(symbol=label)\n",
    "            return value\n",
    "        except Exception as e:\n",
    "            print(\"Error Message : {}\".format(e))\n",
    "            return\n",
    "        \n",
    "    def get_all_symbol(self):\n",
    "        try:\n",
    "            value = self.client.get_all_isolated_margin_symbols()\n",
    "            return value\n",
    "        except Exception as e:\n",
    "            print(\"Error Message : {}\".format(e))\n",
    "            return\n",
    "\n",
    "    def get_volume(self, symbol, interval):\n",
    "        try:\n",
    "            value = self.client.get_klines(symbol=symbol, interval=interval, startTime=1672531200000, endTime=1703980800000)\n",
    "            return value\n",
    "        except Exception as e:\n",
    "            print(\"Error Message : {}\".format(e))\n",
    "            return\n",
    "        \n",
    "\n",
    "binance_set = BinanceAPI()\n",
    "\n"
   ]
  },
  {
   "cell_type": "code",
   "execution_count": 56,
   "metadata": {},
   "outputs": [],
   "source": [
    "all_symbol = binance_set.get_all_symbol()"
   ]
  },
  {
   "cell_type": "code",
   "execution_count": 57,
   "metadata": {},
   "outputs": [],
   "source": [
    "all_symbol_data = []\n",
    "\n",
    "for value in all_symbol:\n",
    "    all_symbol_data.append(value[\"symbol\"])\n"
   ]
  },
  {
   "cell_type": "code",
   "execution_count": 58,
   "metadata": {},
   "outputs": [],
   "source": [
    "import json\n",
    "\n",
    "with open(\"data/all_symbol.json\", \"w\") as file:\n",
    "    json.dump(all_symbol_data, file, indent=4)"
   ]
  },
  {
   "cell_type": "markdown",
   "metadata": {},
   "source": [
    "## コインごとの分類"
   ]
  },
  {
   "cell_type": "code",
   "execution_count": 59,
   "metadata": {},
   "outputs": [],
   "source": [
    "\n",
    "stable_coin_symbol = [\"BTCUSDT\", \"ADAUSDT\", \"DOGEUSDT\", \"TRXUSDT\", \"SHIBUSDT\", \"ETHUSDC\", \"LINKUSDC\", \"SOLUSDC\", \"DOTUSDC\", \"BTCFDUSD\", \"ADAUSDC\", \"ETHFDUSD\", \"XRPFDUSD\", \"DOGEFDUSD\"]\n",
    "\n",
    "big_coin_symbol = [\"ETHBTC\", \"ADABTC\", \"XRPBTC\", \"BNBBTC\",  \"ADAETH\", \"XRPETH\"]\n",
    "\n",
    "alt_coin_symbol = [\"SOLUSDT\", \"DOTUSDT\", \"AVAXUSDT\", \"ALGOUSDT\", \"VETUSDT\", \"SANDBTC\", \"DOGEBTC\", \"ATOMBTC\", \"FTMBTC\", \"DOTBTC\", \"ORDIUSDC\", \"CFXUSDC\", \"FETUSDC\", \"BLURUSDC\"]\n",
    "\n",
    "NFT_token_symbol = [\"MANAUSDT\", \"SANDUSDT\", \"AXSUSDT\", \"CHZUSDT\", \"ALICEUSDT\"]\n",
    "\n",
    "other_token_symbol = [\"AAVEUSDT\", \"COMPUSDT\", \"SUSHIUSDT\", \"UNIUSDT\", \"SNXUSDT\", \"LDOUSDT\", \"CRVUSDT\", \"CVXUSDT\", \"KSMUSDT\", \"DOTUSDT\"]"
   ]
  },
  {
   "cell_type": "markdown",
   "metadata": {},
   "source": [
    "## コインデータの取得"
   ]
  },
  {
   "cell_type": "code",
   "execution_count": 60,
   "metadata": {},
   "outputs": [],
   "source": [
    "from collections import defaultdict\n",
    "import json\n",
    "\n",
    "def format_data(value):\n",
    "    volume = []\n",
    "    sell_volume = []\n",
    "    buy_volume = []\n",
    "    price = []\n",
    "\n",
    "    for i in range(len(value)):\n",
    "        price.append(float(value[i][1]))\n",
    "        volume.append(float(value[i][5]))\n",
    "        buy_volume.append(float(value[i][9]))\n",
    "        sell_volume.append(float(value[i][5])-float(value[i][9]))\n",
    "\n",
    "    return_value = defaultdict(list)\n",
    "    return_value[\"price\"] = price\n",
    "    return_value[\"volume\"] = volume\n",
    "    return_value[\"buy_volume\"] = buy_volume\n",
    "    return_value[\"sell_volume\"] = sell_volume\n",
    "    \n",
    "    return return_value\n"
   ]
  },
  {
   "cell_type": "code",
   "execution_count": 61,
   "metadata": {},
   "outputs": [],
   "source": [
    "from collections import defaultdict\n",
    "import time\n",
    "\n",
    "def get_some_data(symbol_data, symbol_name):\n",
    "    interval = Client.KLINE_INTERVAL_1DAY\n",
    "\n",
    "    save_value = defaultdict(list)\n",
    "\n",
    "    for i in range(len(symbol_data)):\n",
    "        time.sleep(0.5)\n",
    "        v = binance_set.get_volume(symbol=symbol_data[i], interval=interval)\n",
    "        formatted_data = format_data(v)\n",
    "\n",
    "        save_value[symbol_data[i]] = formatted_data\n",
    "\n",
    "    with open(\"data/\"+symbol_name+\".json\", \"w\") as file:\n",
    "        json.dump(save_value, file, indent=4)\n"
   ]
  },
  {
   "cell_type": "code",
   "execution_count": 62,
   "metadata": {},
   "outputs": [],
   "source": [
    "get_some_data(stable_coin_symbol, \"stable_coin_data\")\n"
   ]
  },
  {
   "cell_type": "code",
   "execution_count": 63,
   "metadata": {},
   "outputs": [],
   "source": [
    "get_some_data(big_coin_symbol, \"big_coin_data\")"
   ]
  },
  {
   "cell_type": "code",
   "execution_count": 64,
   "metadata": {},
   "outputs": [],
   "source": [
    "get_some_data(alt_coin_symbol, \"alt_coin_data\")"
   ]
  },
  {
   "cell_type": "code",
   "execution_count": 65,
   "metadata": {},
   "outputs": [],
   "source": [
    "get_some_data(NFT_token_symbol, \"NFT_token_data\")"
   ]
  },
  {
   "cell_type": "code",
   "execution_count": 66,
   "metadata": {},
   "outputs": [],
   "source": [
    "get_some_data(other_token_symbol, \"other_token_symbol_data\")"
   ]
  },
  {
   "cell_type": "code",
   "execution_count": 67,
   "metadata": {},
   "outputs": [],
   "source": [
    "get_some_data(all_symbol_data, \"all_symbol_datas\")"
   ]
  },
  {
   "cell_type": "code",
   "execution_count": null,
   "metadata": {},
   "outputs": [],
   "source": []
  }
 ],
 "metadata": {
  "kernelspec": {
   "display_name": "base",
   "language": "python",
   "name": "python3"
  },
  "language_info": {
   "codemirror_mode": {
    "name": "ipython",
    "version": 3
   },
   "file_extension": ".py",
   "mimetype": "text/x-python",
   "name": "python",
   "nbconvert_exporter": "python",
   "pygments_lexer": "ipython3",
   "version": "3.10.9"
  }
 },
 "nbformat": 4,
 "nbformat_minor": 2
}
